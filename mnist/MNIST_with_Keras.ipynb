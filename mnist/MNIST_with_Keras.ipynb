{
 "cells": [
  {
   "cell_type": "code",
   "execution_count": 1,
   "metadata": {},
   "outputs": [],
   "source": [
    "from IPython.display import Image"
   ]
  },
  {
   "cell_type": "markdown",
   "metadata": {},
   "source": [
    "# MNIST Recognition with KERAS\n",
    "\n",
    "![title](assets/MNIST.jpeg)\n",
    "\n",
    "Based on original paper [Backpropagation Applied to Handwritten Zip Code Recognition](http://yann.lecun.com/exdb/publis/pdf/lecun-89e.pdf) by [Y. LeCun](http://yann.lecun.com)\n",
    "\n",
    "The approach used is coming from the by [Best Practices for Convolutional Neural Networks Applied to Visual Document Analysis](http://cognitivemedium.com/assets/rmnist/Simard.pdf) Patrice Y. Simard"
   ]
  },
  {
   "cell_type": "code",
   "execution_count": 2,
   "metadata": {},
   "outputs": [
    {
     "name": "stderr",
     "output_type": "stream",
     "text": [
      "Using TensorFlow backend.\n"
     ]
    }
   ],
   "source": [
    "import numpy as np\n",
    "from keras.datasets import mnist\n",
    "\n",
    "from keras.models import Sequential # Sequential Model\n",
    "from keras.layers import Dense      # Layer type: Dense\n",
    "from keras.utils import np_utils    # Have no idea why, yet"
   ]
  },
  {
   "cell_type": "code",
   "execution_count": 3,
   "metadata": {},
   "outputs": [],
   "source": [
    "np.random.seed(42) # seed is for repeatable results\n",
    "(X_train, y_train), (X_test, y_test) = mnist.load_data() # training and test data"
   ]
  },
  {
   "cell_type": "markdown",
   "metadata": {},
   "source": [
    "# Data Preprocessing"
   ]
  },
  {
   "cell_type": "code",
   "execution_count": 4,
   "metadata": {},
   "outputs": [
    {
     "data": {
      "text/plain": [
       "(60000, 28, 28)"
      ]
     },
     "execution_count": 4,
     "metadata": {},
     "output_type": "execute_result"
    }
   ],
   "source": [
    "X_train.shape # Let's figure how our data looks like"
   ]
  },
  {
   "cell_type": "code",
   "execution_count": 5,
   "metadata": {},
   "outputs": [],
   "source": [
    "X_train = X_train.reshape(60000, 784) # conversion of the images"
   ]
  },
  {
   "cell_type": "code",
   "execution_count": 6,
   "metadata": {},
   "outputs": [],
   "source": [
    "X_test = X_test.reshape(10000, 784)"
   ]
  },
  {
   "cell_type": "code",
   "execution_count": 7,
   "metadata": {},
   "outputs": [],
   "source": [
    "X_train = X_train.astype('float32') # Normalize data of the pixels\n",
    "X_train /= 255                      # 255 possible valies from 0 to 1"
   ]
  },
  {
   "cell_type": "code",
   "execution_count": 8,
   "metadata": {},
   "outputs": [],
   "source": [
    "X_test = X_test.astype('float32') # Normalize data of the pixels\n",
    "X_test /= 255                     # 255 possible valies from 0 to 1 "
   ]
  },
  {
   "cell_type": "code",
   "execution_count": 9,
   "metadata": {},
   "outputs": [
    {
     "data": {
      "text/plain": [
       "(60000,)"
      ]
     },
     "execution_count": 9,
     "metadata": {},
     "output_type": "execute_result"
    }
   ],
   "source": [
    "y_train.shape"
   ]
  },
  {
   "cell_type": "code",
   "execution_count": 10,
   "metadata": {},
   "outputs": [
    {
     "data": {
      "text/plain": [
       "6"
      ]
     },
     "execution_count": 10,
     "metadata": {},
     "output_type": "execute_result"
    }
   ],
   "source": [
    "y_train[999] # 6"
   ]
  },
  {
   "cell_type": "code",
   "execution_count": 11,
   "metadata": {},
   "outputs": [],
   "source": [
    "# Convert tags into numeric categories"
   ]
  },
  {
   "cell_type": "code",
   "execution_count": 12,
   "metadata": {},
   "outputs": [],
   "source": [
    "Y_train = np_utils.to_categorical(y_train, 10)\n",
    "Y_test = np_utils.to_categorical(y_test, 10)"
   ]
  },
  {
   "cell_type": "code",
   "execution_count": 13,
   "metadata": {},
   "outputs": [
    {
     "data": {
      "text/plain": [
       "array([0., 0., 0., 0., 0., 0., 1., 0., 0., 0.], dtype=float32)"
      ]
     },
     "execution_count": 13,
     "metadata": {},
     "output_type": "execute_result"
    }
   ],
   "source": [
    "Y_train[42] # this label index is 7, so the image should be 7\n",
    "Y_train[679] # 5\n",
    "Y_train[999] # 6 -> [0., 0., 0., 0., 0., 0., 1., 0., 0., 0.]"
   ]
  },
  {
   "cell_type": "code",
   "execution_count": 14,
   "metadata": {},
   "outputs": [],
   "source": [
    "model = Sequential()"
   ]
  },
  {
   "cell_type": "code",
   "execution_count": 15,
   "metadata": {},
   "outputs": [
    {
     "name": "stdout",
     "output_type": "stream",
     "text": [
      "<keras.engine.sequential.Sequential object at 0x11a6de5f8>\n"
     ]
    }
   ],
   "source": [
    "print(model)"
   ]
  },
  {
   "cell_type": "code",
   "execution_count": 16,
   "metadata": {},
   "outputs": [],
   "source": [
    "model.add(Dense(800, input_dim=784, activation='relu', kernel_initializer='normal'))\n",
    "model.add(Dense(10, activation='softmax', kernel_initializer='normal'))"
   ]
  },
  {
   "cell_type": "code",
   "execution_count": 17,
   "metadata": {},
   "outputs": [],
   "source": [
    "model.compile(loss=\"categorical_crossentropy\", optimizer=\"SGD\", metrics=[\"accuracy\"])"
   ]
  },
  {
   "cell_type": "code",
   "execution_count": 18,
   "metadata": {},
   "outputs": [
    {
     "name": "stdout",
     "output_type": "stream",
     "text": [
      "_________________________________________________________________\n",
      "Layer (type)                 Output Shape              Param #   \n",
      "=================================================================\n",
      "dense_1 (Dense)              (None, 800)               628000    \n",
      "_________________________________________________________________\n",
      "dense_2 (Dense)              (None, 10)                8010      \n",
      "=================================================================\n",
      "Total params: 636,010\n",
      "Trainable params: 636,010\n",
      "Non-trainable params: 0\n",
      "_________________________________________________________________\n",
      "None\n"
     ]
    }
   ],
   "source": [
    "print(model.summary())"
   ]
  },
  {
   "cell_type": "code",
   "execution_count": 20,
   "metadata": {},
   "outputs": [
    {
     "name": "stdout",
     "output_type": "stream",
     "text": [
      "Train on 48000 samples, validate on 12000 samples\n",
      "Epoch 1/150\n",
      " - 2s - loss: 1.3220 - acc: 0.6916 - val_loss: 0.7795 - val_acc: 0.8502\n",
      "Epoch 2/150\n",
      " - 2s - loss: 0.6730 - acc: 0.8522 - val_loss: 0.5376 - val_acc: 0.8732\n",
      "Epoch 3/150\n",
      " - 2s - loss: 0.5239 - acc: 0.8726 - val_loss: 0.4494 - val_acc: 0.8883\n",
      "Epoch 4/150\n",
      " - 2s - loss: 0.4561 - acc: 0.8836 - val_loss: 0.4033 - val_acc: 0.8976\n",
      "Epoch 5/150\n",
      " - 2s - loss: 0.4161 - acc: 0.8912 - val_loss: 0.3734 - val_acc: 0.9034\n",
      "Epoch 6/150\n",
      " - 2s - loss: 0.3889 - acc: 0.8961 - val_loss: 0.3530 - val_acc: 0.9062\n",
      "Epoch 7/150\n",
      " - 2s - loss: 0.3686 - acc: 0.9008 - val_loss: 0.3370 - val_acc: 0.9103\n",
      "Epoch 8/150\n",
      " - 2s - loss: 0.3528 - acc: 0.9039 - val_loss: 0.3249 - val_acc: 0.9113\n",
      "Epoch 9/150\n",
      " - 2s - loss: 0.3399 - acc: 0.9068 - val_loss: 0.3145 - val_acc: 0.9141\n",
      "Epoch 10/150\n",
      " - 2s - loss: 0.3289 - acc: 0.9095 - val_loss: 0.3061 - val_acc: 0.9164\n",
      "Epoch 11/150\n",
      " - 3s - loss: 0.3194 - acc: 0.9123 - val_loss: 0.2985 - val_acc: 0.9170\n",
      "Epoch 12/150\n",
      " - 2s - loss: 0.3110 - acc: 0.9143 - val_loss: 0.2916 - val_acc: 0.9202\n",
      "Epoch 13/150\n",
      " - 2s - loss: 0.3035 - acc: 0.9163 - val_loss: 0.2855 - val_acc: 0.9214\n",
      "Epoch 14/150\n",
      " - 3s - loss: 0.2967 - acc: 0.9180 - val_loss: 0.2795 - val_acc: 0.9235\n",
      "Epoch 15/150\n",
      " - 3s - loss: 0.2904 - acc: 0.9197 - val_loss: 0.2747 - val_acc: 0.9241\n",
      "Epoch 16/150\n",
      " - 2s - loss: 0.2844 - acc: 0.9214 - val_loss: 0.2702 - val_acc: 0.9264\n",
      "Epoch 17/150\n",
      " - 3s - loss: 0.2792 - acc: 0.9231 - val_loss: 0.2655 - val_acc: 0.9273\n",
      "Epoch 18/150\n",
      " - 3s - loss: 0.2741 - acc: 0.9242 - val_loss: 0.2611 - val_acc: 0.9291\n",
      "Epoch 19/150\n",
      " - 3s - loss: 0.2692 - acc: 0.9258 - val_loss: 0.2572 - val_acc: 0.9300\n",
      "Epoch 20/150\n",
      " - 3s - loss: 0.2646 - acc: 0.9271 - val_loss: 0.2533 - val_acc: 0.9307\n",
      "Epoch 21/150\n",
      " - 3s - loss: 0.2603 - acc: 0.9283 - val_loss: 0.2497 - val_acc: 0.9311\n",
      "Epoch 22/150\n",
      " - 2s - loss: 0.2560 - acc: 0.9296 - val_loss: 0.2464 - val_acc: 0.9319\n",
      "Epoch 23/150\n",
      " - 2s - loss: 0.2521 - acc: 0.9305 - val_loss: 0.2432 - val_acc: 0.9325\n",
      "Epoch 24/150\n",
      " - 2s - loss: 0.2482 - acc: 0.9311 - val_loss: 0.2406 - val_acc: 0.9338\n",
      "Epoch 25/150\n",
      " - 2s - loss: 0.2446 - acc: 0.9324 - val_loss: 0.2366 - val_acc: 0.9342\n",
      "Epoch 26/150\n",
      " - 2s - loss: 0.2410 - acc: 0.9335 - val_loss: 0.2345 - val_acc: 0.9349\n",
      "Epoch 27/150\n",
      " - 2s - loss: 0.2376 - acc: 0.9339 - val_loss: 0.2311 - val_acc: 0.9367\n",
      "Epoch 28/150\n",
      " - 2s - loss: 0.2343 - acc: 0.9350 - val_loss: 0.2282 - val_acc: 0.9366\n",
      "Epoch 29/150\n",
      " - 3s - loss: 0.2310 - acc: 0.9359 - val_loss: 0.2258 - val_acc: 0.9382\n",
      "Epoch 30/150\n",
      " - 3s - loss: 0.2279 - acc: 0.9371 - val_loss: 0.2232 - val_acc: 0.9384\n",
      "Epoch 31/150\n",
      " - 3s - loss: 0.2248 - acc: 0.9378 - val_loss: 0.2211 - val_acc: 0.9385\n",
      "Epoch 32/150\n",
      " - 3s - loss: 0.2219 - acc: 0.9383 - val_loss: 0.2187 - val_acc: 0.9390\n",
      "Epoch 33/150\n",
      " - 3s - loss: 0.2191 - acc: 0.9391 - val_loss: 0.2159 - val_acc: 0.9407\n",
      "Epoch 34/150\n",
      " - 2s - loss: 0.2164 - acc: 0.9397 - val_loss: 0.2136 - val_acc: 0.9420\n",
      "Epoch 35/150\n",
      " - 2s - loss: 0.2136 - acc: 0.9408 - val_loss: 0.2112 - val_acc: 0.9426\n",
      "Epoch 36/150\n",
      " - 2s - loss: 0.2110 - acc: 0.9415 - val_loss: 0.2090 - val_acc: 0.9434\n",
      "Epoch 37/150\n",
      " - 2s - loss: 0.2084 - acc: 0.9423 - val_loss: 0.2069 - val_acc: 0.9439\n",
      "Epoch 38/150\n",
      " - 2s - loss: 0.2060 - acc: 0.9428 - val_loss: 0.2049 - val_acc: 0.9450\n",
      "Epoch 39/150\n",
      " - 3s - loss: 0.2035 - acc: 0.9435 - val_loss: 0.2029 - val_acc: 0.9447\n",
      "Epoch 40/150\n",
      " - 3s - loss: 0.2011 - acc: 0.9440 - val_loss: 0.2007 - val_acc: 0.9454\n",
      "Epoch 41/150\n",
      " - 2s - loss: 0.1987 - acc: 0.9450 - val_loss: 0.1990 - val_acc: 0.9459\n",
      "Epoch 42/150\n",
      " - 2s - loss: 0.1964 - acc: 0.9456 - val_loss: 0.1970 - val_acc: 0.9467\n",
      "Epoch 43/150\n",
      " - 3s - loss: 0.1941 - acc: 0.9459 - val_loss: 0.1951 - val_acc: 0.9467\n",
      "Epoch 44/150\n",
      " - 2s - loss: 0.1920 - acc: 0.9466 - val_loss: 0.1938 - val_acc: 0.9477\n",
      "Epoch 45/150\n",
      " - 2s - loss: 0.1900 - acc: 0.9473 - val_loss: 0.1917 - val_acc: 0.9489\n",
      "Epoch 46/150\n",
      " - 2s - loss: 0.1878 - acc: 0.9482 - val_loss: 0.1901 - val_acc: 0.9489\n",
      "Epoch 47/150\n",
      " - 2s - loss: 0.1857 - acc: 0.9489 - val_loss: 0.1883 - val_acc: 0.9497\n",
      "Epoch 48/150\n",
      " - 2s - loss: 0.1838 - acc: 0.9491 - val_loss: 0.1867 - val_acc: 0.9497\n",
      "Epoch 49/150\n",
      " - 2s - loss: 0.1817 - acc: 0.9498 - val_loss: 0.1851 - val_acc: 0.9502\n",
      "Epoch 50/150\n",
      " - 2s - loss: 0.1799 - acc: 0.9500 - val_loss: 0.1837 - val_acc: 0.9508\n",
      "Epoch 51/150\n",
      " - 2s - loss: 0.1780 - acc: 0.9508 - val_loss: 0.1821 - val_acc: 0.9508\n",
      "Epoch 52/150\n",
      " - 2s - loss: 0.1761 - acc: 0.9515 - val_loss: 0.1806 - val_acc: 0.9512\n",
      "Epoch 53/150\n",
      " - 2s - loss: 0.1744 - acc: 0.9515 - val_loss: 0.1791 - val_acc: 0.9517\n",
      "Epoch 54/150\n",
      " - 2s - loss: 0.1726 - acc: 0.9520 - val_loss: 0.1778 - val_acc: 0.9524\n",
      "Epoch 55/150\n",
      " - 2s - loss: 0.1708 - acc: 0.9526 - val_loss: 0.1763 - val_acc: 0.9532\n",
      "Epoch 56/150\n",
      " - 2s - loss: 0.1692 - acc: 0.9531 - val_loss: 0.1749 - val_acc: 0.9536\n",
      "Epoch 57/150\n",
      " - 2s - loss: 0.1674 - acc: 0.9532 - val_loss: 0.1737 - val_acc: 0.9537\n",
      "Epoch 58/150\n",
      " - 2s - loss: 0.1659 - acc: 0.9537 - val_loss: 0.1722 - val_acc: 0.9532\n",
      "Epoch 59/150\n",
      " - 2s - loss: 0.1643 - acc: 0.9539 - val_loss: 0.1711 - val_acc: 0.9537\n",
      "Epoch 60/150\n",
      " - 2s - loss: 0.1627 - acc: 0.9544 - val_loss: 0.1698 - val_acc: 0.9541\n",
      "Epoch 61/150\n",
      " - 2s - loss: 0.1611 - acc: 0.9548 - val_loss: 0.1685 - val_acc: 0.9543\n",
      "Epoch 62/150\n",
      " - 2s - loss: 0.1595 - acc: 0.9557 - val_loss: 0.1676 - val_acc: 0.9552\n",
      "Epoch 63/150\n",
      " - 2s - loss: 0.1580 - acc: 0.9558 - val_loss: 0.1666 - val_acc: 0.9542\n",
      "Epoch 64/150\n",
      " - 2s - loss: 0.1566 - acc: 0.9560 - val_loss: 0.1654 - val_acc: 0.9553\n",
      "Epoch 65/150\n",
      " - 2s - loss: 0.1552 - acc: 0.9567 - val_loss: 0.1640 - val_acc: 0.9557\n",
      "Epoch 66/150\n",
      " - 2s - loss: 0.1538 - acc: 0.9573 - val_loss: 0.1628 - val_acc: 0.9557\n",
      "Epoch 67/150\n",
      " - 2s - loss: 0.1524 - acc: 0.9576 - val_loss: 0.1616 - val_acc: 0.9558\n",
      "Epoch 68/150\n",
      " - 2s - loss: 0.1510 - acc: 0.9581 - val_loss: 0.1609 - val_acc: 0.9567\n",
      "Epoch 69/150\n",
      " - 2s - loss: 0.1495 - acc: 0.9589 - val_loss: 0.1599 - val_acc: 0.9568\n",
      "Epoch 70/150\n",
      " - 2s - loss: 0.1483 - acc: 0.9590 - val_loss: 0.1584 - val_acc: 0.9563\n",
      "Epoch 71/150\n",
      " - 2s - loss: 0.1470 - acc: 0.9594 - val_loss: 0.1573 - val_acc: 0.9568\n",
      "Epoch 72/150\n",
      " - 2s - loss: 0.1457 - acc: 0.9598 - val_loss: 0.1566 - val_acc: 0.9578\n",
      "Epoch 73/150\n",
      " - 2s - loss: 0.1444 - acc: 0.9602 - val_loss: 0.1556 - val_acc: 0.9582\n",
      "Epoch 74/150\n",
      " - 2s - loss: 0.1431 - acc: 0.9605 - val_loss: 0.1549 - val_acc: 0.9583\n",
      "Epoch 75/150\n",
      " - 2s - loss: 0.1420 - acc: 0.9611 - val_loss: 0.1533 - val_acc: 0.9582\n",
      "Epoch 76/150\n",
      " - 2s - loss: 0.1408 - acc: 0.9615 - val_loss: 0.1525 - val_acc: 0.9581\n",
      "Epoch 77/150\n",
      " - 2s - loss: 0.1395 - acc: 0.9617 - val_loss: 0.1517 - val_acc: 0.9587\n",
      "Epoch 78/150\n",
      " - 2s - loss: 0.1384 - acc: 0.9621 - val_loss: 0.1509 - val_acc: 0.9587\n",
      "Epoch 79/150\n",
      " - 2s - loss: 0.1372 - acc: 0.9628 - val_loss: 0.1498 - val_acc: 0.9593\n",
      "Epoch 80/150\n",
      " - 2s - loss: 0.1361 - acc: 0.9629 - val_loss: 0.1489 - val_acc: 0.9598\n",
      "Epoch 81/150\n",
      " - 2s - loss: 0.1349 - acc: 0.9635 - val_loss: 0.1482 - val_acc: 0.9598\n",
      "Epoch 82/150\n",
      " - 2s - loss: 0.1339 - acc: 0.9635 - val_loss: 0.1472 - val_acc: 0.9599\n",
      "Epoch 83/150\n",
      " - 2s - loss: 0.1328 - acc: 0.9641 - val_loss: 0.1464 - val_acc: 0.9600\n",
      "Epoch 84/150\n",
      " - 2s - loss: 0.1317 - acc: 0.9644 - val_loss: 0.1457 - val_acc: 0.9599\n",
      "Epoch 85/150\n",
      " - 2s - loss: 0.1307 - acc: 0.9642 - val_loss: 0.1445 - val_acc: 0.9606\n",
      "Epoch 86/150\n",
      " - 2s - loss: 0.1297 - acc: 0.9650 - val_loss: 0.1442 - val_acc: 0.9606\n",
      "Epoch 87/150\n",
      " - 2s - loss: 0.1285 - acc: 0.9652 - val_loss: 0.1435 - val_acc: 0.9609\n",
      "Epoch 88/150\n",
      " - 2s - loss: 0.1276 - acc: 0.9655 - val_loss: 0.1428 - val_acc: 0.9608\n",
      "Epoch 89/150\n",
      " - 2s - loss: 0.1266 - acc: 0.9659 - val_loss: 0.1418 - val_acc: 0.9616\n",
      "Epoch 90/150\n",
      " - 2s - loss: 0.1256 - acc: 0.9658 - val_loss: 0.1411 - val_acc: 0.9619\n",
      "Epoch 91/150\n",
      " - 2s - loss: 0.1247 - acc: 0.9663 - val_loss: 0.1404 - val_acc: 0.9618\n",
      "Epoch 92/150\n",
      " - 2s - loss: 0.1237 - acc: 0.9667 - val_loss: 0.1395 - val_acc: 0.9619\n",
      "Epoch 93/150\n",
      " - 2s - loss: 0.1228 - acc: 0.9668 - val_loss: 0.1390 - val_acc: 0.9619\n",
      "Epoch 94/150\n",
      " - 2s - loss: 0.1219 - acc: 0.9671 - val_loss: 0.1384 - val_acc: 0.9623\n",
      "Epoch 95/150\n",
      " - 2s - loss: 0.1210 - acc: 0.9674 - val_loss: 0.1375 - val_acc: 0.9626\n",
      "Epoch 96/150\n",
      " - 2s - loss: 0.1201 - acc: 0.9675 - val_loss: 0.1369 - val_acc: 0.9628\n"
     ]
    },
    {
     "name": "stdout",
     "output_type": "stream",
     "text": [
      "Epoch 97/150\n",
      " - 2s - loss: 0.1191 - acc: 0.9682 - val_loss: 0.1361 - val_acc: 0.9628\n",
      "Epoch 98/150\n",
      " - 2s - loss: 0.1183 - acc: 0.9682 - val_loss: 0.1355 - val_acc: 0.9628\n",
      "Epoch 99/150\n",
      " - 3s - loss: 0.1174 - acc: 0.9682 - val_loss: 0.1350 - val_acc: 0.9629\n",
      "Epoch 100/150\n",
      " - 3s - loss: 0.1165 - acc: 0.9686 - val_loss: 0.1345 - val_acc: 0.9633\n",
      "Epoch 101/150\n",
      " - 3s - loss: 0.1157 - acc: 0.9689 - val_loss: 0.1337 - val_acc: 0.9638\n",
      "Epoch 102/150\n",
      " - 2s - loss: 0.1149 - acc: 0.9694 - val_loss: 0.1331 - val_acc: 0.9633\n",
      "Epoch 103/150\n",
      " - 3s - loss: 0.1140 - acc: 0.9692 - val_loss: 0.1325 - val_acc: 0.9639\n",
      "Epoch 104/150\n",
      " - 2s - loss: 0.1132 - acc: 0.9695 - val_loss: 0.1320 - val_acc: 0.9643\n",
      "Epoch 105/150\n",
      " - 2s - loss: 0.1124 - acc: 0.9699 - val_loss: 0.1314 - val_acc: 0.9640\n",
      "Epoch 106/150\n",
      " - 2s - loss: 0.1117 - acc: 0.9701 - val_loss: 0.1306 - val_acc: 0.9646\n",
      "Epoch 107/150\n",
      " - 3s - loss: 0.1109 - acc: 0.9704 - val_loss: 0.1302 - val_acc: 0.9645\n",
      "Epoch 108/150\n",
      " - 2s - loss: 0.1101 - acc: 0.9707 - val_loss: 0.1296 - val_acc: 0.9649\n",
      "Epoch 109/150\n",
      " - 2s - loss: 0.1093 - acc: 0.9708 - val_loss: 0.1293 - val_acc: 0.9646\n",
      "Epoch 110/150\n",
      " - 2s - loss: 0.1086 - acc: 0.9710 - val_loss: 0.1284 - val_acc: 0.9655\n",
      "Epoch 111/150\n",
      " - 2s - loss: 0.1078 - acc: 0.9714 - val_loss: 0.1279 - val_acc: 0.9655\n",
      "Epoch 112/150\n",
      " - 2s - loss: 0.1070 - acc: 0.9715 - val_loss: 0.1277 - val_acc: 0.9648\n",
      "Epoch 113/150\n",
      " - 2s - loss: 0.1064 - acc: 0.9718 - val_loss: 0.1272 - val_acc: 0.9653\n",
      "Epoch 114/150\n",
      " - 2s - loss: 0.1056 - acc: 0.9721 - val_loss: 0.1268 - val_acc: 0.9660\n",
      "Epoch 115/150\n",
      " - 2s - loss: 0.1049 - acc: 0.9721 - val_loss: 0.1262 - val_acc: 0.9658\n",
      "Epoch 116/150\n",
      " - 2s - loss: 0.1042 - acc: 0.9725 - val_loss: 0.1255 - val_acc: 0.9658\n",
      "Epoch 117/150\n",
      " - 2s - loss: 0.1035 - acc: 0.9726 - val_loss: 0.1252 - val_acc: 0.9665\n",
      "Epoch 118/150\n",
      " - 2s - loss: 0.1028 - acc: 0.9726 - val_loss: 0.1247 - val_acc: 0.9661\n",
      "Epoch 119/150\n",
      " - 2s - loss: 0.1022 - acc: 0.9730 - val_loss: 0.1240 - val_acc: 0.9661\n",
      "Epoch 120/150\n",
      " - 2s - loss: 0.1015 - acc: 0.9731 - val_loss: 0.1237 - val_acc: 0.9663\n",
      "Epoch 121/150\n",
      " - 2s - loss: 0.1008 - acc: 0.9735 - val_loss: 0.1231 - val_acc: 0.9665\n",
      "Epoch 122/150\n",
      " - 2s - loss: 0.1002 - acc: 0.9737 - val_loss: 0.1225 - val_acc: 0.9669\n",
      "Epoch 123/150\n",
      " - 2s - loss: 0.0995 - acc: 0.9739 - val_loss: 0.1222 - val_acc: 0.9672\n",
      "Epoch 124/150\n",
      " - 3s - loss: 0.0988 - acc: 0.9741 - val_loss: 0.1218 - val_acc: 0.9666\n",
      "Epoch 125/150\n",
      " - 2s - loss: 0.0982 - acc: 0.9743 - val_loss: 0.1211 - val_acc: 0.9670\n",
      "Epoch 126/150\n",
      " - 2s - loss: 0.0977 - acc: 0.9745 - val_loss: 0.1207 - val_acc: 0.9668\n",
      "Epoch 127/150\n",
      " - 2s - loss: 0.0970 - acc: 0.9746 - val_loss: 0.1202 - val_acc: 0.9673\n",
      "Epoch 128/150\n",
      " - 2s - loss: 0.0963 - acc: 0.9747 - val_loss: 0.1197 - val_acc: 0.9678\n",
      "Epoch 129/150\n",
      " - 2s - loss: 0.0958 - acc: 0.9749 - val_loss: 0.1196 - val_acc: 0.9674\n",
      "Epoch 130/150\n",
      " - 2s - loss: 0.0952 - acc: 0.9751 - val_loss: 0.1194 - val_acc: 0.9673\n",
      "Epoch 131/150\n",
      " - 2s - loss: 0.0945 - acc: 0.9753 - val_loss: 0.1184 - val_acc: 0.9675\n",
      "Epoch 132/150\n",
      " - 2s - loss: 0.0940 - acc: 0.9756 - val_loss: 0.1182 - val_acc: 0.9674\n",
      "Epoch 133/150\n",
      " - 2s - loss: 0.0934 - acc: 0.9758 - val_loss: 0.1179 - val_acc: 0.9676\n",
      "Epoch 134/150\n",
      " - 2s - loss: 0.0928 - acc: 0.9758 - val_loss: 0.1175 - val_acc: 0.9677\n",
      "Epoch 135/150\n",
      " - 2s - loss: 0.0922 - acc: 0.9762 - val_loss: 0.1172 - val_acc: 0.9677\n",
      "Epoch 136/150\n",
      " - 2s - loss: 0.0917 - acc: 0.9761 - val_loss: 0.1166 - val_acc: 0.9676\n",
      "Epoch 137/150\n",
      " - 3s - loss: 0.0911 - acc: 0.9765 - val_loss: 0.1163 - val_acc: 0.9682\n",
      "Epoch 138/150\n",
      " - 2s - loss: 0.0905 - acc: 0.9765 - val_loss: 0.1163 - val_acc: 0.9683\n",
      "Epoch 139/150\n",
      " - 2s - loss: 0.0900 - acc: 0.9766 - val_loss: 0.1154 - val_acc: 0.9680\n",
      "Epoch 140/150\n",
      " - 2s - loss: 0.0895 - acc: 0.9767 - val_loss: 0.1151 - val_acc: 0.9679\n",
      "Epoch 141/150\n",
      " - 2s - loss: 0.0890 - acc: 0.9770 - val_loss: 0.1148 - val_acc: 0.9678\n",
      "Epoch 142/150\n",
      " - 2s - loss: 0.0884 - acc: 0.9769 - val_loss: 0.1145 - val_acc: 0.9682\n",
      "Epoch 143/150\n",
      " - 2s - loss: 0.0879 - acc: 0.9773 - val_loss: 0.1140 - val_acc: 0.9687\n",
      "Epoch 144/150\n",
      " - 2s - loss: 0.0874 - acc: 0.9773 - val_loss: 0.1137 - val_acc: 0.9691\n",
      "Epoch 145/150\n",
      " - 2s - loss: 0.0869 - acc: 0.9776 - val_loss: 0.1134 - val_acc: 0.9688\n",
      "Epoch 146/150\n",
      " - 2s - loss: 0.0863 - acc: 0.9775 - val_loss: 0.1131 - val_acc: 0.9683\n",
      "Epoch 147/150\n",
      " - 2s - loss: 0.0859 - acc: 0.9778 - val_loss: 0.1128 - val_acc: 0.9687\n",
      "Epoch 148/150\n",
      " - 2s - loss: 0.0853 - acc: 0.9779 - val_loss: 0.1124 - val_acc: 0.9688\n",
      "Epoch 149/150\n",
      " - 2s - loss: 0.0848 - acc: 0.9778 - val_loss: 0.1120 - val_acc: 0.9691\n",
      "Epoch 150/150\n",
      " - 3s - loss: 0.0843 - acc: 0.9783 - val_loss: 0.1119 - val_acc: 0.9693\n"
     ]
    },
    {
     "data": {
      "text/plain": [
       "<keras.callbacks.History at 0x11a7007b8>"
      ]
     },
     "execution_count": 20,
     "metadata": {},
     "output_type": "execute_result"
    }
   ],
   "source": [
    "model.fit(X_train, Y_train, batch_size=200, epochs=150, validation_split=0.2, verbose=2)"
   ]
  },
  {
   "cell_type": "code",
   "execution_count": 21,
   "metadata": {},
   "outputs": [
    {
     "name": "stdout",
     "output_type": "stream",
     "text": [
      "The accuracy on test data is: 96.97%\n"
     ]
    }
   ],
   "source": [
    "scores = model.evaluate(X_test, Y_test, verbose=0)\n",
    "print(\"The accuracy on test data is: %.2f%%\" % (scores[1]*100))"
   ]
  },
  {
   "cell_type": "code",
   "execution_count": null,
   "metadata": {},
   "outputs": [],
   "source": []
  }
 ],
 "metadata": {
  "kernelspec": {
   "display_name": "Python 3",
   "language": "python",
   "name": "python3"
  },
  "language_info": {
   "codemirror_mode": {
    "name": "ipython",
    "version": 3
   },
   "file_extension": ".py",
   "mimetype": "text/x-python",
   "name": "python",
   "nbconvert_exporter": "python",
   "pygments_lexer": "ipython3",
   "version": "3.6.6"
  }
 },
 "nbformat": 4,
 "nbformat_minor": 2
}
